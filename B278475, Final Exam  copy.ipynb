{
 "cells": [
  {
   "cell_type": "markdown",
   "id": "772963",
   "metadata": {
    "collapsed": false
   },
   "source": [
    "**Trends in COVID-19 Infection and Vaccination Data in Scotland, Disaggregated by Gender, Region, and Urban Density** \n",
    "\n",
    "**Written for the Final Exam: Python for Data Science as part of the MSc Data Science, Technology, and Innovation at the Bayes Centre, University of Edinburgh**\n",
    "\n",
    "**Course taught by Dr. Alex Ramsay & Dr. Douglas Houston**\n",
    "\n",
    "**April 21st, 2025**\n",
    "\n",
    "**Dataset**\n",
    "\n",
    "To complete this project, I created a new, compiled dataset in a workbook called Cleaned Final Exam Data.xlsx. This was pulling the relevant datasets from a variety of sources, so that I could analyze them more easily. The sheets I included with comprehensive data were:\n",
    "\n",
    "·      New Cases by Day\n",
    "\n",
    "·      New Deaths by Day\n",
    "\n",
    "·      New Cases by Region by Day\n",
    "\n",
    "·      New Cases by Age by Day\n",
    "\n",
    "·      New Cases Test Type, Hospital,\n",
    "\n",
    "·      Weekly Admissions by Age\n",
    "\n",
    "·      Vaccination Totals\n",
    "\n",
    "·      All Vaccinations\n",
    "\n",
    "·      Vaccinations by Sex and Age\n",
    "\n",
    "I added a few sheets with datasets with more limited data, but determined that because of the low sample sizes, it was not very useful for drawing statistically significant insights. \n",
    "\n",
    "·      Vaccination by Ethnicity\n",
    "\n",
    "·      Vaccinations by Ethnicity 2\n",
    "\n",
    "·      Vaccinations by Area \\(Incomplete\\)\n",
    "\n",
    "**Sources**\n",
    "\n",
    "In addition to the datasets shared via Onedrive on the website [https://www.travellingtabby.com/scotland\\-coronavirus\\-tracker/](https://www.travellingtabby.com/scotland-coronavirus-tracker/) , I found additional data\\-sets at the below sources:\n",
    "\n",
    "[https://www.opendata.nhs.scot/dataset/flu\\-covid\\-vaccinations/resource/39c57ad5\\-158d\\-4405\\-80d0\\-ca3730b6fd8c](https://www.opendata.nhs.scot/dataset/flu-covid-vaccinations/resource/39c57ad5-158d-4405-80d0-ca3730b6fd8c) \\- COVID Vaccines delivered daily\n",
    "\n",
    "[https://www.opendata.nhs.scot/dataset/flu\\-covid\\-vaccinations/resource/5536c83b\\-8ac9\\-4891\\-a3e9\\-3868f0ff8f73](https://www.opendata.nhs.scot/dataset/flu-covid-vaccinations/resource/5536c83b-8ac9-4891-a3e9-3868f0ff8f73) \\- COVID Vaccines by ethnicity\n",
    "\n",
    "[https://www.opendata.nhs.scot/dataset/flu\\-covid\\-vaccinations/resource/11b1540b\\-4b90\\-4ce6\\-a556\\-b51cfd592f0e](https://www.opendata.nhs.scot/dataset/flu-covid-vaccinations/resource/11b1540b-4b90-4ce6-a556-b51cfd592f0e) \\- COVID Vaccines, NHS center \\(location\\) of delivery\n",
    "\n",
    "[https://www.opendata.nhs.scot/dataset/flu\\-covid\\-vaccinations/resource/2231708c\\-9cfa\\-4b27\\-a1ff\\-5cc8a45a02c3](https://www.opendata.nhs.scot/dataset/flu-covid-vaccinations/resource/2231708c-9cfa-4b27-a1ff-5cc8a45a02c3) \\- COVID Vaccines by ethnicity and status \\(frontline worker? Over 50?\\)\n",
    "\n",
    "[https://statistics.gov.scot/resource?uri=http%3A%2F%2Fstatistics.gov.scot%2Fdata%2Fcoronavirus\\-covid\\-19\\-management\\-information](https://statistics.gov.scot/resource?uri=http%3A%2F%2Fstatistics.gov.scot%2Fdata%2Fcoronavirus-covid-19-management-information) \\- COVID Data\n",
    "\n",
    "[https://statistics.gov.scot/resource?uri=http%3A%2F%2Fstatistics.gov.scot%2Fdata%2Fdeaths\\-involving\\-coronavirus\\-covid\\-19](https://statistics.gov.scot/resource?uri=http%3A%2F%2Fstatistics.gov.scot%2Fdata%2Fdeaths-involving-coronavirus-covid-19) \\- COVID Deaths Data\n",
    "\n",
    "[https://www.opendata.nhs.scot/dataset/covid\\-19\\-vaccination\\-in\\-scotland/resource/db27a16d\\-52e1\\-45e4\\-bd97\\-d13831548393](https://www.opendata.nhs.scot/dataset/covid-19-vaccination-in-scotland/resource/db27a16d-52e1-45e4-bd97-d13831548393) \\- All Vaccines\n",
    "\n",
    "[https://www.opendata.nhs.scot/dataset/covid\\-19\\-vaccination\\-in\\-scotland/resource/9b99e278\\-b8d8\\-47df\\-8d7a\\-a8cf98519ac1\\-](https://www.opendata.nhs.scot/dataset/covid-19-vaccination-in-scotland/resource/9b99e278-b8d8-47df-8d7a-a8cf98519ac1-) Vaccines by Age and Sex\n",
    "\n",
    "**Technology**\n",
    "\n",
    "In addition, I used [Perplexity.ai](http://Perplexity.ai) and ChatGPT to assist with writing, streamlining, and debugging code, which enabled me to more efficiently carry out analysis and make use of features that were not covered in this course. \n",
    "\n",
    "**Project Lay\\-Out**\n",
    "\n",
    "The project will answer the exam questions in order:\n",
    "\n",
    "1. First, we will evaluate how the # of COVID cases in Scotland changed over time, identifying peaks and correlating them with holidays and re-openings from lockdown.\n",
    "\n",
    "2. Second, we will evaluate how the \\# of vaccinations in Scotland changed over time, noting how this also corresponded with seasons of high travel. \n",
    "\n",
    "3. Third, we will explore the correlation between vaccination rate and death rate. At first, the correlation seems weak, close to 0, but when we introduce a time lag, we see that there is an increasingly strong negative correlation between vaccinations and deaths with a greater time lag. In other words, the vaccinations don't immediately impact deaths, but when you project out to 2 weeks, 3 weeks, or 3 months past the vaccination date, you can see a notificeable decline in deaths. This makes sense, given that vaccinations are intended to prevent future infections, but will have no impact on existing ones. \n",
    "\n",
    "4. The fourth section will disaggregate the data to observe more trends, including about gender and regional distribution. \n",
    "\n",
    "We look at the gendered components of COVID-19, observing that women are overall more likely to be vaccinated than men. This potentially could be tied the fact that many of the fields that required front\\-line workers, including the care industries and nursing and medical professions, are female\\-dominated. If women were more likely to be exposed to COVID\\-19 because of less ability to stay at home, they may have experienced stronger motivations to get vaccinated, which could explain the disparity.\n",
    "\n",
    "In terms of regionality, the main conclusions are that regional distribution of cases varied, with a positive correlation between population density and number of infections; Scots residing in more rural regions were less likely to be infected. \n",
    "\n"
   ]
  },
  {
   "cell_type": "code",
   "execution_count": null,
   "id": "fc6520",
   "metadata": {
    "collapsed": false
   },
   "outputs": [],
   "source": [
    "# Set up\n",
    "\n",
    "!pip install openpyxl matplotlib seaborn\n",
    "\n",
    "import pandas as pd\n",
    "import matplotlib.pyplot as plt\n",
    "import seaborn as sns"
   ]
  },
  {
   "cell_type": "code",
   "execution_count": null,
   "id": "d03cea",
   "metadata": {
    "collapsed": false
   },
   "outputs": [],
   "source": [
    "# Load all sheets from the Excel file into a dictionary\n",
    "file_path = 'Cleaned Final Exam Data.xlsx'  # Adjust path as needed\n",
    "all_sheets = pd.read_excel(file_path, sheet_name=None)\n",
    "\n",
    "# Display available sheet names, to see what I'm working with\n",
    "print(f\"Sheets Available: {list(all_sheets)}\")"
   ]
  },
  {
   "cell_type": "code",
   "execution_count": null,
   "id": "f82bc1",
   "metadata": {
    "collapsed": false
   },
   "outputs": [],
   "source": [
    "# Create DataFrame for the \"New Cases by Day\" sheet\n",
    "daily_cases_df = all_sheets.get('New Cases by Day')\n",
    "\n",
    "# Ensure required columns are present\n",
    "if daily_cases_df is None or not {'Date', 'New Cases'}.issubset(daily_cases_df.columns):\n",
    "    raise ValueError(\"Required columns ('Date', 'New Cases') not found in the sheet.\")\n",
    "\n",
    "# Clean data\n",
    "daily_cases_df['Date'] = pd.to_datetime(daily_cases_df['Date'], errors='coerce')\n",
    "daily_cases_df['New Cases'] = pd.to_numeric(daily_cases_df['New Cases'], errors='coerce')\n",
    "daily_cases_df = daily_cases_df.dropna(subset=['Date', 'New Cases'])\n",
    "\n",
    "# Summary statistics\n",
    "display(\n",
    "    daily_cases_df['New Cases']\n",
    "    .describe()\n",
    "    .to_frame()\n",
    "    .style.background_gradient(cmap='Blues')\n",
    ")"
   ]
  },
  {
   "cell_type": "code",
   "execution_count": null,
   "id": "de3f26",
   "metadata": {
    "collapsed": false
   },
   "outputs": [],
   "source": [
    "# Ensure no missing data in the 'New Cases' column\n",
    "daily_cases_clean = daily_cases_df.dropna(subset=['New Cases'])\n",
    "\n",
    "# Calculate and print statistics\n",
    "mean_cases = daily_cases_clean['New Cases'].mean()\n",
    "max_cases = daily_cases_clean['New Cases'].max()\n",
    "date_max_cases = daily_cases_clean.loc[daily_cases_clean['New Cases'].idxmax(), 'Date']\n",
    "\n",
    "print(f\"Mean daily cases: {mean_cases:.2f}\")\n",
    "print(f\"Max daily cases: {max_cases}\")\n",
    "print(f\"Date with max cases: {date_max_cases.strftime('%Y-%m-%d')}\")"
   ]
  },
  {
   "cell_type": "markdown",
   "id": "81bd16",
   "metadata": {
    "collapsed": false
   },
   "source": [
    "So far, we can see that there was an average of 1855 new cases per day in Scotland. However, the standard deviation was extreme, at 2983 cases, indicating that there was significant variation in the number of cases per day over the time frame from January of 2020 through the end of rigorous data collection in May of 2023. \n",
    "\n",
    "The day with the most new cases was December 29th, 2021. \n"
   ]
  },
  {
   "cell_type": "code",
   "execution_count": null,
   "id": "aacccd",
   "metadata": {
    "collapsed": false
   },
   "outputs": [],
   "source": [
    "# Function for customizing plot\n",
    "def customize_plot(title, xlabel, ylabel, xticks_rotation=45):\n",
    "    plt.title(title, fontsize=16)\n",
    "    plt.xlabel(xlabel, fontsize=12)\n",
    "    plt.ylabel(ylabel, fontsize=12)\n",
    "    plt.xticks(rotation=xticks_rotation)\n",
    "    plt.tight_layout()\n",
    "\n",
    "# Plotting the data\n",
    "plt.figure(figsize=(14, 6))\n",
    "\n",
    "# Use lineplot with fewer default warnings by setting error bar style explicitly\n",
    "sns.lineplot(data=daily_cases_df, x='Date', y='New Cases', errorbar=None)\n",
    "\n",
    "# Use the custom function to handle plot customization\n",
    "customize_plot('Daily New COVID-19 Cases in Scotland', 'Date', 'Number of New Cases')\n",
    "\n",
    "# Show the plot\n",
    "plt.show()"
   ]
  },
  {
   "cell_type": "code",
   "execution_count": null,
   "id": "f89eeb",
   "metadata": {
    "collapsed": false
   },
   "outputs": [],
   "source": [
    "# Create a function to roll the averages and smooth my data. \n",
    "\n",
    "def calculate_rolling_avg(df, column, window=7, min_periods=1):\n",
    "    \"\"\"\n",
    "    Calculate the rolling average for a specified column in the dataframe.\n",
    "\n",
    "    Parameters:\n",
    "    - df: pandas DataFrame\n",
    "    - column: str, column name for which the rolling average is to be calculated\n",
    "    - window: int, size of the moving window (default is 7)\n",
    "    - min_periods: int, minimum number of observations in window to have a value (default is 1)\n",
    "\n",
    "    Returns:\n",
    "    - pandas Series: Rolling average of the specified column\n",
    "    \"\"\"\n",
    "    return df[column].rolling(window=window, min_periods=min_periods).mean()"
   ]
  },
  {
   "cell_type": "code",
   "execution_count": null,
   "id": "a26e13",
   "metadata": {
    "collapsed": false,
    "scrolled": true
   },
   "outputs": [],
   "source": [
    "# Calculate the 7-day rolling average using the defined function\n",
    "daily_cases_df['7day_avg'] = calculate_rolling_avg(daily_cases_df, 'New Cases', window=7, min_periods=1)\n",
    "\n",
    "# Plot daily cases and 7-day average\n",
    "plt.figure(figsize=(14, 6))\n",
    "\n",
    "# Plot the daily cases\n",
    "sns.lineplot(data=daily_cases_df, x='Date', y='New Cases', label='Daily Cases', alpha=0.3)\n",
    "\n",
    "# Plot the 7-day rolling average\n",
    "sns.lineplot(data=daily_cases_df, x='Date', y='7day_avg', label='7-Day Rolling Average', color='red')\n",
    "\n",
    "# Use the custom function to handle plot customization\n",
    "customize_plot('Daily New COVID-19 Cases in Scotland (with 7-Day Rolling Average)', 'Date', 'Number of New Cases')\n",
    "\n",
    "# Add legend\n",
    "plt.legend(title='Legend')\n",
    "\n",
    "# Show the plot\n",
    "plt.show()"
   ]
  },
  {
   "cell_type": "markdown",
   "id": "4fe64e",
   "metadata": {
    "collapsed": false
   },
   "source": [
    "COVID cases were multimodal, with the most intense peak in January of 2022, with over 20000 new cases reported in one day, and another significant peak in April of 2022, with around 15000 cases in a single day. \n",
    "\n",
    "The timing of these peaks is fascinating in terms of its placement in the pandemic overall as well as the correlations to national holidays. Significant increases in infections in January and April suggest that there were high levels of spread in the weeks prior, which would have been Christmas 2021 and Spring Break (for many university and school students) in early April of 2022. \n",
    "\n",
    "In addition, the number of cases in early 2022 is surprising given that vaccines started to be distributed in mass in the end of 2020\\-\\-this suggests that the emergence of vaccines may have caused increase confidence, where people were less careful about avoiding infection, when they and/or those around them were vaccinated. \n",
    "\n"
   ]
  },
  {
   "cell_type": "markdown",
   "id": "52abaa",
   "metadata": {
    "collapsed": false
   },
   "source": [
    "After evaluating how COVID cases shifted over time, we will now move on to question 2, regarding the vaccination status of people in Scotland throughout the pandemic."
   ]
  },
  {
   "cell_type": "code",
   "execution_count": null,
   "id": "c4fe5a",
   "metadata": {
    "collapsed": false
   },
   "outputs": [],
   "source": [
    "# Access the 'Vaccinations by Sex and Age' sheet from the all_sheets dictionary. We will use it to create a new dataFrame called df_dose1_total which we cna use to connect our analysis, focusing on total vaccinations, but narrowed to the first dose and individuals 12+. \n",
    "\n",
    "df_vax_demo = all_sheets.get('Vaccinations by Sex and Age')\n",
    "\n",
    "# Check if the sheet is loaded correctly\n",
    "if df_vax_demo is None:\n",
    "    raise ValueError(\"The 'Vaccinations by Sex and Age' sheet is not found in the dataset.\")\n",
    "\n",
    "# Ensure required columns are present\n",
    "required_columns = ['Date', 'Dose', 'AgeGroup', 'CumulativeNumberVaccinated']\n",
    "if not all(col in df_vax_demo.columns for col in required_columns):\n",
    "    raise ValueError(f\"Missing required columns: {set(required_columns) - set(df_vax_demo.columns)}\")\n",
    "\n",
    "# Convert 'Date' to datetime with error handling\n",
    "df_vax_demo['Date'] = pd.to_datetime(df_vax_demo['Date'], errors='coerce', format='%Y%m%d')\n",
    "\n",
    "# Filter for Dose 1 and the specific age group\n",
    "df_dose1 = df_vax_demo[(df_vax_demo['Dose'] == 'Dose 1') & (df_vax_demo['AgeGroup'] == '12 years and over')]\n",
    "\n",
    "# Group by date and sum the CumulativeNumberVaccinated\n",
    "df_dose1_total = df_dose1.groupby('Date')['CumulativeNumberVaccinated'].sum().reset_index()\n",
    "\n",
    "# Check result\n",
    "df_dose1_total.head()"
   ]
  },
  {
   "cell_type": "code",
   "execution_count": null,
   "id": "c05611",
   "metadata": {
    "collapsed": false
   },
   "outputs": [],
   "source": [
    "# Plotting the data for Cumulative Dose 1 vaccinations\n",
    "plt.figure(figsize=(10, 6))\n",
    "plt.plot(df_dose1_total['Date'], df_dose1_total['CumulativeNumberVaccinated'], label='Cumulative Dose 1', color='lightblue')\n",
    "\n",
    "# Use the custom function to handle plot customization\n",
    "customize_plot('Cumulative Dose 1 Vaccinations in Scotland (12+ Population)', 'Date', 'Cumulative Number Vaccinated')\n",
    "\n",
    "# Adding grid and legend\n",
    "plt.grid(True)\n",
    "plt.legend()\n",
    "\n",
    "# Show the plot\n",
    "plt.show()"
   ]
  },
  {
   "cell_type": "markdown",
   "id": "c83476",
   "metadata": {
    "collapsed": false
   },
   "source": [
    "By looking at cumulative Dose 1 (first) vaccinations in Scotland among those ages 12+, we can see that most vaccinations occured wtihin the first 9 months of its availability, and afterthat there was a steep drop-off.  Most likely, those who wanted to be vaccinated already had been, and we have decided not to include additional vaccinations (Boosters) in this data. "
   ]
  },
  {
   "cell_type": "code",
   "execution_count": null,
   "id": "6427ba",
   "metadata": {
    "collapsed": false
   },
   "outputs": [],
   "source": [
    "# Ensure data is sorted by date before calculating diff/rolling\n",
    "df_dose1_total = df_dose1_total.sort_values('Date').reset_index(drop=True)\n",
    "\n",
    "# Calculate daily vaccinations (first difference of cumulative)\n",
    "df_dose1_total['DailyVaccinations'] = df_dose1_total['CumulativeNumberVaccinated'].diff()\n",
    "\n",
    "# Calculate 7-day rolling average using the previously defined function\n",
    "df_dose1_total['7DayAvg'] = calculate_rolling_avg(df_dose1_total, 'DailyVaccinations', window=7, min_periods=1)\n",
    "\n",
    "# Plot\n",
    "plt.figure(figsize=(12, 6))\n",
    "\n",
    "# Plot daily vaccinations and 7-day moving average\n",
    "plt.plot(df_dose1_total['Date'], df_dose1_total['DailyVaccinations'], alpha=0.4, label='Daily Dose 1')\n",
    "plt.plot(df_dose1_total['Date'], df_dose1_total['7DayAvg'], color='darkorange', label='7-Day Moving Avg')\n",
    "\n",
    "# Use the custom function to handle plot customization\n",
    "customize_plot('Daily Dose 1 Vaccinations in Scotland', 'Date', 'Number Vaccinated')\n",
    "\n",
    "# Add grid and legend\n",
    "plt.grid(True)\n",
    "plt.legend()\n",
    "\n",
    "# Show the plot\n",
    "plt.show()"
   ]
  },
  {
   "cell_type": "markdown",
   "id": "f7527a",
   "metadata": {
    "collapsed": false
   },
   "source": [
    "The initial spike in vaccinations was in late February of 2021, which likely correlates to their widespread availability to the general public in Scotland. Following the initial peak, there was another peak in vaccinations in late March\\-\\-likely corresponding to the approaching Spring Holiday\\-\\-and another as students prepared for Summer Holiday in June. Vaccination rates sharply declined after November of 2021, most likely because those who wanted to be vaccinated had already done so. \n"
   ]
  },
  {
   "cell_type": "code",
   "execution_count": null,
   "id": "7bca5e",
   "metadata": {
    "collapsed": false
   },
   "outputs": [],
   "source": [
    "vax_summary = df_dose1_total['DailyVaccinations'].agg(['mean', 'median', 'max', 'min', 'sum']).to_frame().T\n",
    "\n",
    "vax_summary_styled = (\n",
    "    vax_summary\n",
    "    .style\n",
    "    .format({\n",
    "        'mean': \"{:.1f}\",\n",
    "        'median': \"{:.1f}\",\n",
    "        'max': \"{:.0f}\",\n",
    "        'min': \"{:.0f}\",\n",
    "        'sum': \"{:.0f}\"\n",
    "    })\n",
    "    .background_gradient(cmap='BuGn')  # Blue to turquoise/greenish gradient\n",
    ")\n",
    "\n",
    "vax_summary_styled"
   ]
  },
  {
   "cell_type": "markdown",
   "id": "47b7f2",
   "metadata": {
    "collapsed": false
   },
   "source": [
    "On average, 13,000 people were vaccinated every day! At the peak, 123,940 Scots were jabbed in just 24 hours. \n",
    "\n",
    "The next section will evaluate the correlation between vaccination and death rates during the COVID\\-19 pandemic, in response to Exam Question 3.\n",
    "\n"
   ]
  },
  {
   "cell_type": "code",
   "execution_count": null,
   "id": "0f98da",
   "metadata": {
    "collapsed": false
   },
   "outputs": [],
   "source": [
    "# Create df_deaths directly from the all_sheets dictionary\n",
    "df_deaths = all_sheets['New Deaths by Day'].copy()\n",
    "\n",
    "# Convert 'Date' column to datetime\n",
    "df_deaths['Date'] = pd.to_datetime(df_deaths['Date'])\n",
    "\n",
    "# Aggregate death data by date\n",
    "df_deaths_total = df_deaths.groupby('Date')['New Deaths'].sum().reset_index()\n",
    "\n",
    "# Plotting\n",
    "plt.figure(figsize=(10, 6))\n",
    "plt.plot(df_deaths_total['Date'], df_deaths_total['New Deaths'], label='New Deaths', color='red')\n",
    "\n",
    "# Use the custom function to handle plot customization\n",
    "customize_plot('New Deaths in Scotland', 'Date', 'New Deaths')\n",
    "\n",
    "# Add grid and legend\n",
    "plt.grid(True)\n",
    "plt.legend()\n",
    "\n",
    "# Show the plot\n",
    "plt.show()"
   ]
  },
  {
   "cell_type": "markdown",
   "id": "fa2a58",
   "metadata": {
    "collapsed": false
   },
   "source": [
    "Deaths from COVID in Scotland peaked in April of 2020, likely because little was known about the disease, its severity, or how to treat it. There was another peak in January of 2021, which would have been shortly after the holiday season of December 2020 when many would be traveling to visit their families and there would have been increased spread. After April of 2021, there was a significant tapering of deaths from COVID-19. "
   ]
  },
  {
   "cell_type": "code",
   "execution_count": null,
   "id": "31d0f1",
   "metadata": {
    "collapsed": false
   },
   "outputs": [],
   "source": [
    "# Select and clean relevant columns from vaccination data\n",
    "daily_vaccinations_table = (\n",
    "    df_dose1_total[['Date', 'DailyVaccinations']]\n",
    "    .dropna(subset=['DailyVaccinations'])\n",
    ")\n",
    "\n",
    "# Merge with deaths data (use df_deaths_total for aggregated values)\n",
    "merged_df = pd.merge(\n",
    "    df_deaths_total,  # already grouped by date\n",
    "    daily_vaccinations_table,\n",
    "    on='Date',\n",
    "    how='left'\n",
    ")\n",
    "\n",
    "# Fill missing vaccination values with 0\n",
    "merged_df['DailyVaccinations'] = merged_df['DailyVaccinations'].fillna(0).astype(float)\n",
    "\n",
    "# Filter by date range\n",
    "filtered_df = merged_df[\n",
    "    (merged_df['Date'] >= '2020-12-09') & \n",
    "    (merged_df['Date'] <= '2020-12-13')\n",
    "]\n",
    "\n",
    "# Display result\n",
    "print(filtered_df)"
   ]
  },
  {
   "cell_type": "code",
   "execution_count": null,
   "id": "3fb3e4",
   "metadata": {
    "collapsed": false
   },
   "outputs": [],
   "source": [
    "# Create the figure and axes\n",
    "fig, ax1 = plt.subplots(figsize=(14, 6))\n",
    "\n",
    "# Plot new deaths on left y-axis\n",
    "ax1.plot(merged_df['Date'], merged_df['New Deaths'], color='red', label='New Deaths')\n",
    "ax1.set_xlabel('Date')\n",
    "ax1.set_ylabel('New Deaths', color='red')\n",
    "ax1.tick_params(axis='y', labelcolor='red')\n",
    "\n",
    "# Plot daily vaccinations on right y-axis\n",
    "ax2 = ax1.twinx()\n",
    "ax2.plot(merged_df['Date'], merged_df['DailyVaccinations'], color='blue', label='Daily Vaccinations')\n",
    "ax2.set_ylabel('Daily Vaccinations', color='blue')\n",
    "ax2.tick_params(axis='y', labelcolor='blue')\n",
    "\n",
    "# Use the custom function to handle plot customization for shared title and x-axis labels\n",
    "customize_plot('Daily COVID-19 Deaths vs. Daily Vaccinations in Scotland', 'Date', '')\n",
    "\n",
    "# Title and layout adjustments\n",
    "fig.autofmt_xdate()\n",
    "plt.tight_layout()\n",
    "\n",
    "# Show the plot\n",
    "plt.show()"
   ]
  },
  {
   "cell_type": "markdown",
   "id": "776093",
   "metadata": {
    "collapsed": false
   },
   "source": [
    "When we evaluate deaths in comparison to daily vaccinations, most deaths occurred before the availability of the vaccine. As soon as vaccines were released in December of 2020, deaths experienced a signficiant drop off, but with a delay of about 4 months. After September of 2021, both deaths and vaccinations were much lower and more stable. "
   ]
  },
  {
   "cell_type": "code",
   "execution_count": null,
   "id": "2ba2e0",
   "metadata": {
    "collapsed": false
   },
   "outputs": [],
   "source": [
    "# Calculate Pearson correlation\n",
    "correlation = merged_df[['DailyVaccinations', 'New Deaths']].corr(method='pearson').round(2)\n",
    "\n",
    "# Style and display\n",
    "styled_corr = correlation.style.background_gradient(cmap='coolwarm').format(\"{:.2f}\")\n",
    "display(styled_corr)"
   ]
  },
  {
   "cell_type": "markdown",
   "id": "ec4a8d",
   "metadata": {
    "collapsed": false
   },
   "source": [
    "At first glance the correlation between vaccinations and deaths is not waht we would expect--vaccinations are correlated with more deaths. However, when we account for a lag in the impact of vaccinations on deaths, the correlation shifts significantly. "
   ]
  },
  {
   "cell_type": "code",
   "execution_count": null,
   "id": "e826f7",
   "metadata": {
    "collapsed": false
   },
   "outputs": [],
   "source": [
    "import numpy as np\n",
    "\n",
    "# Predefine series to avoid repeated lookup\n",
    "deaths = merged_df['New Deaths']\n",
    "vaccinations = merged_df['DailyVaccinations']\n",
    "\n",
    "# Compute correlations with different lags up to 90 days\n",
    "lags = range(91)  # Lags from 0 to 90\n",
    "correlations = [deaths.corr(vaccinations.shift(lag)) for lag in lags]\n",
    "\n",
    "# Apply rolling mean (smooth the correlation values)\n",
    "window_size = 3  # Adjust for more or less smoothing\n",
    "smoothed_correlations = pd.Series(correlations).rolling(window=window_size, min_periods=1).mean()\n",
    "\n",
    "# Plot the smoothed correlation results\n",
    "plt.figure(figsize=(10, 6))\n",
    "plt.plot(lags, smoothed_correlations, marker='o', color='b', label='Smoothed Correlation')\n",
    "\n",
    "# Use the custom function for plot customization\n",
    "customize_plot('Smoothed Correlation Between Daily Vaccinations and Deaths at Different Lags (0 to 90 Days)', 'Lag (days)', 'Smoothed Correlation')\n",
    "\n",
    "# Add horizontal line at 0 for reference\n",
    "plt.axhline(0, color='gray', linestyle='--')\n",
    "\n",
    "# Display the plot\n",
    "plt.grid(True)\n",
    "plt.tight_layout()\n",
    "plt.legend()\n",
    "plt.show()"
   ]
  },
  {
   "cell_type": "markdown",
   "id": "816161",
   "metadata": {
    "collapsed": false
   },
   "source": [
    "Another interesting thing to note is the lag in correlation between vaccinations and deaths from COVID-19. At first, there is almost no correlation between vaccines and deaths, but after about 2 weeks, the correlation shifts to being negative and continues to strengthen. Essentially, the vaccinations were effective in decreasiang deaths, but with a lag. 2 weeks, 3 weeks, or 3 months after vaccinations are delivered in bulk, deaths decrease significanty. \n",
    "\n",
    "This is in alignment with our findings in the death trends earlier, where the significant drop in deaths from COVID-19 took place about 3-4 months after the vaccines became available and widely used. \n",
    "\n",
    "Scientifically, the reasoning for this is that vaccinations don't help people who are currently infected or sick, they prevent future infections. "
   ]
  },
  {
   "cell_type": "code",
   "execution_count": null,
   "id": "a62271",
   "metadata": {
    "collapsed": false,
    "scrolled": true
   },
   "outputs": [],
   "source": [
    "# Shift vaccination data forward to simulate a lag\n",
    "merged_df['LaggedVaccinations'] = merged_df['DailyVaccinations'].shift(90)\n",
    "\n",
    "# Drop rows with NaN values resulting from the lag\n",
    "lagged_deaths_df = merged_df.dropna(subset=['LaggedVaccinations', 'New Deaths'])\n",
    "\n",
    "# Plot the scatter plot\n",
    "plt.figure(figsize=(8, 6))\n",
    "plt.scatter(lagged_deaths_df['LaggedVaccinations'], lagged_deaths_df['New Deaths'], alpha=0.5)\n",
    "plt.title('New Deaths vs. Vaccinations (3-Month Lag)')\n",
    "plt.xlabel('Daily Vaccinations (Lagged 3 Months)')\n",
    "plt.ylabel('New Deaths')\n",
    "plt.grid(True)\n",
    "plt.tight_layout()\n",
    "plt.show()"
   ]
  },
  {
   "cell_type": "markdown",
   "id": "64d75a",
   "metadata": {
    "collapsed": false
   },
   "source": [
    "After answering the core questions of the exam, related to cases, vaccinations, and deaths due to COVID-19 in Scotland, we will disaggregate the data further to uncover additional insights. \n",
    "\n",
    "Key questions we will explore here are:\n",
    "\n",
    "1) What were the gendered responses to COVID-19 in Scotland, in terms of vaccination?\n",
    "2) What was the regional distribution of COVID-19 in Scotland?\n",
    "\n",
    "While we were initially also interested in data that was further disaggregated by gender or race/ethnicity, finding datasets with large enough samples to be statistically significant proved difficult, so analysis is focused on questions that can be confidently answered with the existing data. \n",
    "\n",
    "We will begin by exploring the correlations between gender(sex) and vaccination."
   ]
  },
  {
   "cell_type": "code",
   "execution_count": null,
   "id": "b7c844",
   "metadata": {
    "collapsed": false
   },
   "outputs": [],
   "source": [
    "# Group by Date and Sex\n",
    "df_sex = df_dose1.groupby(['Date', 'Sex'])[['CumulativeNumberVaccinated', 'Population']].sum().reset_index()\n",
    "\n",
    "# Pivot data for plotting\n",
    "df_pivot = df_sex.pivot(index='Date', columns='Sex', values=['CumulativeNumberVaccinated', 'Population'])\n",
    "\n",
    "# Calculate % coverage for Male, Female, and Total (all combined)\n",
    "pct_male = (df_pivot['CumulativeNumberVaccinated']['Male'] / df_pivot['Population']['Male']) * 100\n",
    "pct_female = (df_pivot['CumulativeNumberVaccinated']['Female'] / df_pivot['Population']['Female']) * 100\n",
    "\n",
    "# Compute total % coverage (for the whole population, regardless of gender)\n",
    "total_vaccinated = df_dose1.groupby('Date')['CumulativeNumberVaccinated'].sum()\n",
    "total_population = df_dose1.groupby('Date')['Population'].sum()\n",
    "pct_total = (total_vaccinated / total_population) * 100\n",
    "\n",
    "# Plot % coverage\n",
    "plt.figure(figsize=(12, 6))\n",
    "\n",
    "# Use the matching colors: pink for Female, blue for Male, and light green for Total\n",
    "plt.plot(pct_male.index, pct_male, label='Male', linestyle='--', linewidth=2, color='blue')\n",
    "plt.plot(pct_female.index, pct_female, label='Female', linestyle='--', linewidth=2, color='hotpink')\n",
    "plt.plot(pct_total.index, pct_total, label='Total', linewidth=2, color='black')\n",
    "\n",
    "# Use the custom function for plot customization\n",
    "customize_plot('Cumulative Dose 1 Coverage (% of Population, Age 12+)', 'Date', 'Percent Coverage')\n",
    "\n",
    "# Add the legend and grid\n",
    "plt.legend(title='Group')\n",
    "plt.grid(True)\n",
    "plt.tight_layout()\n",
    "\n",
    "# Show the plot\n",
    "plt.show()"
   ]
  },
  {
   "cell_type": "code",
   "execution_count": null,
   "id": "647d42",
   "metadata": {
    "collapsed": false
   },
   "outputs": [],
   "source": [
    "# Filter out rows where 'Sex' is missing or 'Unknown'\n",
    "valid_sex_df = df_sex[df_sex['Sex'].isin(['Female', 'Male'])]\n",
    "\n",
    "# Group by 'Sex' and take the latest value for 'CumulativeNumberVaccinated' for each gender\n",
    "latest_vax_by_gender = valid_sex_df.groupby('Sex').last()['CumulativeNumberVaccinated']\n",
    "\n",
    "# Recalculate the total number of vaccinations (all genders combined, using only the latest value for each gender)\n",
    "total_vax_all = latest_vax_by_gender.sum()\n",
    "\n",
    "# Recalculate the proportion of total vaccinations by gender (percentage of the total of Female + Male)\n",
    "proportion_vax_by_gender = latest_vax_by_gender / total_vax_all\n",
    "\n",
    "# Create the summary DataFrame again\n",
    "gender_vax_summary = pd.DataFrame({\n",
    "    'Total Vaccinations': latest_vax_by_gender.round(),  # Round absolute numbers\n",
    "    'Proportion of Total (%)': (proportion_vax_by_gender * 100).round(2)  # Round proportions to 2 decimals\n",
    "})\n",
    "\n",
    "# Add the total row at the bottom (total of Female + Male)\n",
    "gender_vax_summary.loc['Total'] = gender_vax_summary.sum()\n",
    "\n",
    "# Function to apply color styling to the full DataFrame\n",
    "def color_map_dataframe(df):\n",
    "    styles = pd.DataFrame('', index=df.index, columns=df.columns)\n",
    "    \n",
    "    for row in df.index:\n",
    "        for col in df.columns:\n",
    "            if row == 'Total':\n",
    "                styles.loc[row, col] = 'background-color: lightgreen'\n",
    "            elif row == 'Female':\n",
    "                styles.loc[row, col] = 'background-color: pink'\n",
    "            elif row == 'Male':\n",
    "                styles.loc[row, col] = 'background-color: lightblue'\n",
    "    return styles\n",
    "\n",
    "# Apply formatting and styling\n",
    "styled_gender_vax_summary = gender_vax_summary.style.format({\n",
    "    'Total Vaccinations': \"{:,.0f}\",\n",
    "    'Proportion of Total (%)': \"{:.2f}%\"\n",
    "}).apply(color_map_dataframe, axis=None)\n",
    "\n",
    "styled_gender_vax_summary"
   ]
  },
  {
   "cell_type": "code",
   "execution_count": null,
   "id": "2d7ec9",
   "metadata": {
    "collapsed": false
   },
   "outputs": [],
   "source": [
    "# Total vaccinations by sex\n",
    "female_vaccinations = 6_632_946\n",
    "male_vaccinations = 6_153_478\n",
    "\n",
    "# Calculate the difference and percent difference\n",
    "difference = female_vaccinations - male_vaccinations\n",
    "percent_more = (difference / male_vaccinations) * 100\n",
    "\n",
    "# Print results\n",
    "print(f\"Women received {difference:,} more vaccinations than men.\")\n",
    "print(f\"That's approximately {percent_more:.2f}% more than men.\")"
   ]
  },
  {
   "cell_type": "markdown",
   "id": "92a3cd",
   "metadata": {
    "collapsed": false
   },
   "source": [
    "Throughout the pandemic, women were more likely to be vaccinated than men, by about 7.79%. \n",
    "\n",
    "This could be explained in part by the fact that women were more likely than men to be frontline workers, and are particularly overrepresented in the health and social care sectors, where spread of the disease would also have been easier because of close contact. For example, 77% of the NHS Scotland workforce are women, and women accounted for about 78% of healthcare workers across Europe in 2019. This overrepresentation of women in frontline roles also contributed to higher COVID-19 infection rates among women compared to men in certain age groups. There were twice as many COVID-19 infections among female health workers in Scotland than male. Because of women's increased exposure to the virus, the perceived importance of getting vaccinated could have been higher, causing this gender disparity in vaccination rates. \n",
    "\n",
    "Source: https://policyscotland.gla.ac.uk/wp-content/uploads/2021/05/PSGCPHCOVIDMicroBrief2Women.pdf\n",
    "\n",
    "The difference in vaccination rates between genders is an example of why gendered analysis of COVID-19 matters. Studies around the world have been conducted on the gendered impacts of the pandemic, including in terms of economic well-being, educational attainment, mental health, sexual and reproductive health, and more. A more in-depth analysis of data in Scotland could illuminate details further in support of this idea. However, seeing the positive role women played in stopping COVID-19 through widespread adoption of vaccination is already a win for the feminists. \n"
   ]
  },
  {
   "cell_type": "markdown",
   "id": "73c577",
   "metadata": {
    "collapsed": false
   },
   "source": [
    "The final section will analyze cases by geographic region. In addition to considering demographic differences, effective public health interventions involve considering regional variation including through factors like population density, healthcare access, and local policy structures in order to effective allocate interventions. \n",
    "\n",
    "By disaggregating data by gender and geography, we are unable to lock deeper insights into how the COVID-19 pandemic impacted our country. In future projects, deeper analysis into additional factors like age and ethnicity--and the intersections between these traits and gender and gegraphy--could unlock further insights. \n"
   ]
  },
  {
   "cell_type": "code",
   "execution_count": null,
   "id": "29d5f5",
   "metadata": {
    "collapsed": false
   },
   "outputs": [],
   "source": [
    "# Load the data for daily new cases by region\n",
    "daily_cases_region = all_sheets['New Cases by Region by Day']\n",
    "\n",
    "# Directly convert 'Date' column to datetime using the correct format\n",
    "daily_cases_region['Date'] = pd.to_datetime(daily_cases_region['Date'], format='%Y%m%d')\n",
    "\n",
    "# Preview the first few rows\n",
    "print(daily_cases_region.head())"
   ]
  },
  {
   "cell_type": "code",
   "execution_count": null,
   "id": "3329a0",
   "metadata": {
    "collapsed": false
   },
   "outputs": [],
   "source": [
    "# Calculate daily new cases for each region\n",
    "daily_cases_region['New Cases'] = daily_cases_region.groupby('CAName')['CumulativePositive'].diff()\n",
    "\n",
    "# Fill NaN values in 'New Cases' column (for the first row of each region)\n",
    "daily_cases_region['New Cases'].fillna(daily_cases_region['CumulativePositive'], inplace=True)\n",
    "\n",
    "# Plotting\n",
    "plt.figure(figsize=(14,6))\n",
    "\n",
    "# Plot all regions at once, using 'CAName' as the hue for automatic color coding\n",
    "sns.lineplot(data=daily_cases_region, x='Date', y='New Cases', hue='CAName', alpha=0.6)\n",
    "\n",
    "# Customize the plot\n",
    "plt.title('Daily New COVID-19 Cases in Scotland by Region')\n",
    "plt.xlabel('Date')\n",
    "plt.ylabel('Number of New Cases')\n",
    "plt.xticks(rotation=45)\n",
    "plt.legend(title=\"Regions\")\n",
    "plt.tight_layout()\n",
    "plt.show()"
   ]
  },
  {
   "cell_type": "markdown",
   "id": "fbb6e0",
   "metadata": {
    "collapsed": false
   },
   "source": [
    "While looking at the regional distribution of data divided into Council Areas is fascinating, having such a larger number of areas can make it hard to make quick judgments. In the next step, we break down the localities into fewer buckets, in this case the Parliamentary Regions, to see how the number of cases varied across them."
   ]
  },
  {
   "cell_type": "code",
   "execution_count": null,
   "id": "a98748",
   "metadata": {
    "collapsed": false
   },
   "outputs": [],
   "source": [
    "# Define the mapping from CAName to Scottish Parliamentary Region\n",
    "region_mapping = {\n",
    "    'Angus': 'North East Scotland',\n",
    "    'Aberdeenshire': 'North East Scotland',\n",
    "    'Aberdeen City': 'North East Scotland',\n",
    "    'Dundee City': 'North East Scotland',\n",
    "\n",
    "    'Clackmannanshire': 'Mid Scotland and Fife',\n",
    "    'Falkirk': 'Mid Scotland and Fife',\n",
    "    'Fife': 'Mid Scotland and Fife',\n",
    "    'Perth and Kinross': 'Mid Scotland and Fife',\n",
    "    'Stirling': 'Mid Scotland and Fife',\n",
    "\n",
    "    'Moray': 'Highlands and Islands',\n",
    "    'Highland': 'Highlands and Islands',\n",
    "    'Na h-Eileanan Siar': 'Highlands and Islands',\n",
    "    'Orkney Islands': 'Highlands and Islands',\n",
    "    'Shetland Islands': 'Highlands and Islands',\n",
    "    'Argyll and Bute': 'Highlands and Islands',\n",
    "\n",
    "    'City of Edinburgh': 'Lothian',\n",
    "    'East Lothian': 'Lothian',\n",
    "    'Midlothian': 'Lothian',\n",
    "    'West Lothian': 'Lothian',\n",
    "\n",
    "    'Glasgow City': 'Glasgow',\n",
    "\n",
    "    'North Lanarkshire': 'Central Scotland',\n",
    "    'South Lanarkshire': 'Central Scotland',\n",
    "    'East Dunbartonshire': 'Central Scotland',\n",
    "    'Cumbernauld and Kilsyth': 'Central Scotland',  # not in list but part of region\n",
    "    'Falkirk East': 'Central Scotland',             # not in list but part of region\n",
    "\n",
    "    'East Renfrewshire': 'West Scotland',\n",
    "    'Renfrewshire': 'West Scotland',\n",
    "    'Inverclyde': 'West Scotland',\n",
    "    'West Dunbartonshire': 'West Scotland',\n",
    "    'East Ayrshire': 'West Scotland',\n",
    "    'North Ayrshire': 'West Scotland',\n",
    "\n",
    "    'South Ayrshire': 'South Scotland',\n",
    "    'Scottish Borders': 'South Scotland',\n",
    "    'Dumfries and Galloway': 'South Scotland',\n",
    "}\n",
    "\n",
    "# Map the 'ParliamentaryRegion' column based on the 'CAName' column\n",
    "daily_cases_region['ParliamentaryRegion'] = daily_cases_region['CAName'].map(region_mapping)\n",
    "\n",
    "# Handle any regions not found in the mapping by assigning them a default value (e.g., 'Unknown')\n",
    "daily_cases_region['ParliamentaryRegion'].fillna('Unknown', inplace=True)\n",
    "\n",
    "# Preview the updated DataFrame\n",
    "print(daily_cases_region.head())"
   ]
  },
  {
   "cell_type": "code",
   "execution_count": null,
   "id": "c6659f",
   "metadata": {
    "collapsed": false
   },
   "outputs": [],
   "source": [
    "# Group by Parliamentary Region and calculate all summary statistics in one go\n",
    "region_summary_stats = daily_cases_region.groupby('ParliamentaryRegion')['New Cases'].agg(\n",
    "    mean='mean', \n",
    "    median='median', \n",
    "    max='max', \n",
    "    min='min', \n",
    "    sum='sum'\n",
    ")\n",
    "\n",
    "# Style the output table for readability (do this only when required for visualization)\n",
    "styled_summary = region_summary_stats.style.format({\n",
    "    'mean': \"{:.1f}\",\n",
    "    'median': \"{:.1f}\",\n",
    "    'max': \"{:.0f}\",\n",
    "    'min': \"{:.0f}\",\n",
    "    'sum': \"{:.0f}\"\n",
    "}).background_gradient(cmap='YlOrRd')\n",
    "\n",
    "styled_summary"
   ]
  },
  {
   "cell_type": "code",
   "execution_count": null,
   "id": "0c0284",
   "metadata": {
    "collapsed": false
   },
   "outputs": [],
   "source": [
    "# Step 1: Calculate daily new cases by ParliamentaryRegion (Ensure the data is sorted)\n",
    "daily_cases_region.sort_values(by=['ParliamentaryRegion', 'Date'], inplace=True)\n",
    "\n",
    "# Calculate daily new cases per Parliamentary Region\n",
    "daily_cases_region['New Cases (Region)'] = daily_cases_region.groupby('ParliamentaryRegion')['CumulativePositive'].diff()\n",
    "\n",
    "# Forward-fill NaN values using ffill method directly\n",
    "daily_cases_region['New Cases (Region)'] = daily_cases_region.groupby('ParliamentaryRegion')['New Cases (Region)'].ffill()\n",
    "\n",
    "# Step 2: Aggregate by date and region to get total new cases per day per region\n",
    "region_daily_totals = daily_cases_region.groupby(['Date', 'ParliamentaryRegion'])['New Cases (Region)'].sum().reset_index()\n",
    "\n",
    "# Step 3: Plot the data\n",
    "plt.figure(figsize=(14, 7))\n",
    "sns.lineplot(data=region_daily_totals, x='Date', y='New Cases (Region)', hue='ParliamentaryRegion', lw=2, alpha=0.8)\n",
    "\n",
    "# Use the custom function to handle plot customization\n",
    "customize_plot('Daily New COVID-19 Cases by Scottish Parliamentary Region', 'Date', 'New Cases')\n",
    "\n",
    "# Customize the legend\n",
    "plt.legend(title='Parliamentary Region', bbox_to_anchor=(1.05, 1), loc='upper left')\n",
    "\n",
    "# Show the plot\n",
    "plt.tight_layout()\n",
    "plt.show()"
   ]
  },
  {
   "cell_type": "markdown",
   "id": "73b23f",
   "metadata": {
    "collapsed": false
   },
   "source": []
  },
  {
   "cell_type": "code",
   "execution_count": null,
   "id": "86984e",
   "metadata": {
    "collapsed": false
   },
   "outputs": [],
   "source": [
    "# Calculate a 7-day rolling average for each Parliamentary Region. Not using the pre-defined function this time, because it doesn't look as good, we want different proportions. \n",
    "\n",
    "region_daily_totals['Rolling Avg (7d)'] = region_daily_totals.groupby('ParliamentaryRegion')['New Cases (Region)'].rolling(window=7, min_periods=1).mean().reset_index(level=0, drop=True)\n",
    "\n",
    "# Plot\n",
    "plt.figure(figsize=(14, 7))\n",
    "sns.lineplot(data=region_daily_totals, x='Date', y='Rolling Avg (7d)', hue='ParliamentaryRegion', lw=2, alpha=0.7)\n",
    "\n",
    "# Customize\n",
    "plt.title('Smoothed Daily COVID-19 Cases by Parliamentary Region (7-Day Rolling Average)', fontsize=16)\n",
    "plt.xlabel('Date')\n",
    "plt.ylabel('New Cases (7-Day Avg)')\n",
    "plt.xticks(rotation=45)\n",
    "plt.legend(title='Parliamentary Region', bbox_to_anchor=(1.05, 1), loc='upper left')\n",
    "plt.tight_layout()\n",
    "plt.show()"
   ]
  },
  {
   "cell_type": "markdown",
   "id": "7e1307",
   "metadata": {
    "collapsed": false
   },
   "source": [
    "Grouping the COVID cases regionally by Scottish Parliamentary Region allows us to notice disparities over time. We can see that Glasgow had the highest number of cases by far, which could be due to having a higher population. To control this, we will look at cases per 100,000 residents as opposed to absolute numbers. "
   ]
  },
  {
   "cell_type": "code",
   "execution_count": null,
   "id": "ca9877",
   "metadata": {
    "collapsed": false
   },
   "outputs": [],
   "source": [
    "def merge_population_data(df, population_data):\n",
    "    \"\"\"\n",
    "    Merge population data into the given DataFrame based on the 'ParliamentaryRegion' column.\n",
    "    \"\"\"\n",
    "    df['Population'] = df['ParliamentaryRegion'].map(population_data)\n",
    "    return df\n",
    "\n",
    "# Step 1: Replace with actual values for each parliamentary region\n",
    "region_populations = {\n",
    "    'North East Scotland': 477000,\n",
    "    'Central Scotland': 560000,\n",
    "    'Glasgow': 635000,\n",
    "    'Lothian': 920000,\n",
    "    'Highlands and Islands': 480000,\n",
    "    'Mid Scotland and Fife': 780000,\n",
    "    'South Scotland': 520000,\n",
    "    'West Scotland': 840000,\n",
    "}\n",
    "\n",
    "# Step 2: Merge the population data using the defined function\n",
    "region_daily_totals = merge_population_data(region_daily_totals, region_populations)\n",
    "\n",
    "# Step 3: Calculate New Cases per 100k for each region\n",
    "region_daily_totals['New Cases per 100k'] = (\n",
    "    region_daily_totals['New Cases (Region)'] / region_daily_totals['Population'] * 100000\n",
    ")\n",
    "\n",
    "# Step 4: Calculate 7-day rolling average for New Cases per 100k\n",
    "region_daily_totals['New Cases per 100k (7d Avg)'] = region_daily_totals.groupby('ParliamentaryRegion')[\n",
    "    'New Cases per 100k'\n",
    "].transform(lambda x: x.rolling(window=7, min_periods=1).mean())\n",
    "\n",
    "# Step 5: Plot the data\n",
    "plt.figure(figsize=(14, 7))\n",
    "sns.lineplot(data=region_daily_totals, x='Date', y='New Cases per 100k (7d Avg)', hue='ParliamentaryRegion', lw=2, alpha=0.7)\n",
    "\n",
    "# Customize plot\n",
    "plt.title('COVID-19 Cases per 100,000 People (7-Day Avg) by Parliamentary Region', fontsize=16)\n",
    "plt.xlabel('Date')\n",
    "plt.ylabel('New Cases per 100k')\n",
    "plt.xticks(rotation=45)\n",
    "plt.legend(title='Parliamentary Region', bbox_to_anchor=(1.05, 1), loc='upper left')\n",
    "plt.tight_layout()\n",
    "plt.show()"
   ]
  },
  {
   "cell_type": "code",
   "execution_count": null,
   "id": "98d66f",
   "metadata": {
    "collapsed": false
   },
   "outputs": [],
   "source": [
    "# Sum total cases per region\n",
    "region_totals = daily_cases_region.groupby('ParliamentaryRegion')['New Cases (Region)'].sum().reset_index()\n",
    "\n",
    "# Use the defined function to merge population data\n",
    "region_totals = merge_population_data(region_totals, region_populations)\n",
    "\n",
    "# Scatter plot with optional regression line\n",
    "plt.figure(figsize=(8, 6))\n",
    "\n",
    "# Scatter plot\n",
    "sns.scatterplot(data=region_totals, x='Population', y='New Cases (Region)', hue='ParliamentaryRegion', s=100)\n",
    "\n",
    "# Optional regression line (linear trend)\n",
    "sns.regplot(data=region_totals, x='Population', y='New Cases (Region)', scatter=False, color='gray', line_kws={'linestyle': '--'})\n",
    "\n",
    "# Customize plot\n",
    "plt.title('Total COVID Cases vs Regional Population', fontsize=16)\n",
    "plt.xlabel('Population', fontsize=12)\n",
    "plt.ylabel('Total COVID Cases', fontsize=12)\n",
    "plt.tight_layout()\n",
    "plt.show()"
   ]
  },
  {
   "cell_type": "code",
   "execution_count": null,
   "id": "d78e21",
   "metadata": {
    "collapsed": false
   },
   "outputs": [],
   "source": [
    "# Group by region and calculate summary stats for new cases per 100k\n",
    "cases_per_100k_stats = region_daily_totals.groupby('ParliamentaryRegion')['New Cases per 100k'].agg(['mean', 'median', 'max', 'min', 'sum'])\n",
    "\n",
    "# Style the table for readability\n",
    "styled_cases_per_100k_stats = cases_per_100k_stats.style.format({\n",
    "    'mean': \"{:.2f}\",\n",
    "    'median': \"{:.2f}\",\n",
    "    'max': \"{:.2f}\",\n",
    "    'min': \"{:.2f}\",\n",
    "    'sum': \"{:.0f}\"\n",
    "}).background_gradient(cmap='PuBuGn')\n",
    "\n",
    "# Display styled table\n",
    "styled_cases_per_100k_stats"
   ]
  },
  {
   "cell_type": "code",
   "execution_count": 0,
   "id": "c1fdd2",
   "metadata": {
    "collapsed": false
   },
   "outputs": [],
   "source": []
  },
  {
   "cell_type": "markdown",
   "id": "878568",
   "metadata": {
    "collapsed": false
   },
   "source": [
    "When we control for population density, we can still see that there were more COVID-19 infections in the more densely-populated regions of Scotland, including Glasgow and Central Scotland. \n",
    "\n",
    "This suggests a positive correlation between population density and COVID-19 infections, which makes sense, given that living and working in close quarters with more people would increase your likelihood of catching an illness. \n",
    "\n",
    "While the regional breakdown of COVID-19 data isn't particularly fascinating on its own, it could be used in combination with policy frameworks or other demographic data (for example, breakdowns around age, gender, ethnicity/race, socioeconomic level, political leaning, etc.) to draw out additional insights. "
   ]
  }
 ],
 "metadata": {
  "kernelspec": {
   "argv": [
    "/usr/bin/python3",
    "-m",
    "ipykernel",
    "--HistoryManager.enabled=False",
    "--matplotlib=inline",
    "-c",
    "%config InlineBackend.figure_formats = set(['retina'])\nimport matplotlib; matplotlib.rcParams['figure.figsize'] = (12, 7)",
    "-f",
    "{connection_file}"
   ],
   "display_name": "Python 3 (system-wide)",
   "env": {},
   "language": "python",
   "metadata": {
    "cocalc": {
     "description": "Python 3 programming language",
     "priority": 100,
     "url": "https://www.python.org/"
    }
   },
   "name": "python3",
   "resource_dir": "/ext/jupyter/kernels/python3"
  },
  "language_info": {
   "codemirror_mode": {
    "name": "ipython",
    "version": 3
   },
   "file_extension": ".py",
   "mimetype": "text/x-python",
   "name": "python",
   "nbconvert_exporter": "python",
   "pygments_lexer": "ipython3",
   "version": "3.10.12"
  }
 },
 "nbformat": 4,
 "nbformat_minor": 4
}
